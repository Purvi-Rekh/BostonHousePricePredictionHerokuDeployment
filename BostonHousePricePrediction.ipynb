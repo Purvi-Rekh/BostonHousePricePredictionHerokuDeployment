{
 "cells": [
  {
   "cell_type": "markdown",
   "metadata": {},
   "source": []
  },
  {
   "cell_type": "code",
   "execution_count": null,
   "metadata": {},
   "outputs": [
    {
     "ename": "",
     "evalue": "",
     "output_type": "error",
     "traceback": [
      "\u001b[1;31mRunning cells with '/Users/joshi.purvi/purvi/iNueron/Krish End to End ML - Git postman deployment/git_project/BostonHousePricePredictionHerokuDeployment/venv/bin/python' requires the ipykernel package.\n",
      "\u001b[1;31mRun the following command to install 'ipykernel' into the Python environment. \n",
      "\u001b[1;31mCommand: 'conda install -p /Users/joshi.purvi/purvi/iNueron/Krish End to End ML - Git postman deployment/git_project/BostonHousePricePredictionHerokuDeployment/venv ipykernel --update-deps --force-reinstall'"
     ]
    }
   ],
   "source": []
  },
  {
   "cell_type": "code",
   "execution_count": null,
   "metadata": {},
   "outputs": [
    {
     "ename": "",
     "evalue": "",
     "output_type": "error",
     "traceback": [
      "\u001b[1;31mRunning cells with '/Users/joshi.purvi/purvi/iNueron/Krish End to End ML - Git postman deployment/git_project/BostonHousePricePredictionHerokuDeployment/venv/bin/python' requires the ipykernel package.\n",
      "\u001b[1;31mRun the following command to install 'ipykernel' into the Python environment. \n",
      "\u001b[1;31mCommand: 'conda install -p /Users/joshi.purvi/purvi/iNueron/Krish End to End ML - Git postman deployment/git_project/BostonHousePricePredictionHerokuDeployment/venv ipykernel --update-deps --force-reinstall'"
     ]
    }
   ],
   "source": []
  },
  {
   "cell_type": "code",
   "execution_count": null,
   "metadata": {},
   "outputs": [
    {
     "ename": "",
     "evalue": "",
     "output_type": "error",
     "traceback": [
      "\u001b[1;31mRunning cells with '/Users/joshi.purvi/purvi/iNueron/Krish End to End ML - Git postman deployment/git_project/BostonHousePricePredictionHerokuDeployment/venv/bin/python' requires the ipykernel package.\n",
      "\u001b[1;31mRun the following command to install 'ipykernel' into the Python environment. \n",
      "\u001b[1;31mCommand: 'conda install -p /Users/joshi.purvi/purvi/iNueron/Krish End to End ML - Git postman deployment/git_project/BostonHousePricePredictionHerokuDeployment/venv ipykernel --update-deps --force-reinstall'"
     ]
    }
   ],
   "source": [
    "import pandas as pd\n",
    "import numpy as np\n",
    "import matplotlib.pyplot as plt\n"
   ]
  },
  {
   "cell_type": "code",
   "execution_count": null,
   "metadata": {},
   "outputs": [
    {
     "ename": "",
     "evalue": "",
     "output_type": "error",
     "traceback": [
      "\u001b[1;31mRunning cells with '/Users/joshi.purvi/purvi/iNueron/Krish End to End ML - Git postman deployment/git_project/BostonHousePricePredictionHerokuDeployment/venv/bin/python' requires the ipykernel package.\n",
      "\u001b[1;31mRun the following command to install 'ipykernel' into the Python environment. \n",
      "\u001b[1;31mCommand: 'conda install -p /Users/joshi.purvi/purvi/iNueron/Krish End to End ML - Git postman deployment/git_project/BostonHousePricePredictionHerokuDeployment/venv ipykernel --update-deps --force-reinstall'"
     ]
    }
   ],
   "source": []
  },
  {
   "cell_type": "code",
   "execution_count": null,
   "metadata": {},
   "outputs": [
    {
     "ename": "",
     "evalue": "",
     "output_type": "error",
     "traceback": [
      "\u001b[1;31mRunning cells with '/Users/joshi.purvi/purvi/iNueron/Krish End to End ML - Git postman deployment/git_project/BostonHousePricePredictionHerokuDeployment/venv/bin/python' requires the ipykernel package.\n",
      "\u001b[1;31mRun the following command to install 'ipykernel' into the Python environment. \n",
      "\u001b[1;31mCommand: 'conda install -p /Users/joshi.purvi/purvi/iNueron/Krish End to End ML - Git postman deployment/git_project/BostonHousePricePredictionHerokuDeployment/venv ipykernel --update-deps --force-reinstall'"
     ]
    }
   ],
   "source": []
  },
  {
   "cell_type": "code",
   "execution_count": null,
   "metadata": {},
   "outputs": [
    {
     "ename": "",
     "evalue": "",
     "output_type": "error",
     "traceback": [
      "\u001b[1;31mRunning cells with '/Users/joshi.purvi/purvi/iNueron/Krish End to End ML - Git postman deployment/git_project/BostonHousePricePredictionHerokuDeployment/venv/bin/python' requires the ipykernel package.\n",
      "\u001b[1;31mRun the following command to install 'ipykernel' into the Python environment. \n",
      "\u001b[1;31mCommand: 'conda install -p /Users/joshi.purvi/purvi/iNueron/Krish End to End ML - Git postman deployment/git_project/BostonHousePricePredictionHerokuDeployment/venv ipykernel --update-deps --force-reinstall'"
     ]
    }
   ],
   "source": []
  },
  {
   "cell_type": "code",
   "execution_count": null,
   "metadata": {},
   "outputs": [
    {
     "ename": "",
     "evalue": "",
     "output_type": "error",
     "traceback": [
      "\u001b[1;31mRunning cells with '/Users/joshi.purvi/purvi/iNueron/Krish End to End ML - Git postman deployment/git_project/BostonHousePricePredictionHerokuDeployment/venv/bin/python' requires the ipykernel package.\n",
      "\u001b[1;31mRun the following command to install 'ipykernel' into the Python environment. \n",
      "\u001b[1;31mCommand: 'conda install -p /Users/joshi.purvi/purvi/iNueron/Krish End to End ML - Git postman deployment/git_project/BostonHousePricePredictionHerokuDeployment/venv ipykernel --update-deps --force-reinstall'"
     ]
    }
   ],
   "source": [
    "%matplotlib inline"
   ]
  },
  {
   "cell_type": "markdown",
   "metadata": {},
   "source": [
    "## Load. boston dataset"
   ]
  },
  {
   "cell_type": "code",
   "execution_count": null,
   "metadata": {},
   "outputs": [
    {
     "ename": "",
     "evalue": "",
     "output_type": "error",
     "traceback": [
      "\u001b[1;31mRunning cells with '/Users/joshi.purvi/purvi/iNueron/Krish End to End ML - Git postman deployment/git_project/BostonHousePricePredictionHerokuDeployment/venv/bin/python' requires the ipykernel package.\n",
      "\u001b[1;31mRun the following command to install 'ipykernel' into the Python environment. \n",
      "\u001b[1;31mCommand: 'conda install -p /Users/joshi.purvi/purvi/iNueron/Krish End to End ML - Git postman deployment/git_project/BostonHousePricePredictionHerokuDeployment/venv ipykernel --update-deps --force-reinstall'"
     ]
    }
   ],
   "source": [
    "from sklearn.datasets import load_boston"
   ]
  },
  {
   "cell_type": "code",
   "execution_count": null,
   "metadata": {},
   "outputs": [
    {
     "ename": "",
     "evalue": "",
     "output_type": "error",
     "traceback": [
      "\u001b[1;31mRunning cells with '/Users/joshi.purvi/purvi/iNueron/Krish End to End ML - Git postman deployment/git_project/BostonHousePricePredictionHerokuDeployment/venv/bin/python' requires the ipykernel package.\n",
      "\u001b[1;31mRun the following command to install 'ipykernel' into the Python environment. \n",
      "\u001b[1;31mCommand: 'conda install -p /Users/joshi.purvi/purvi/iNueron/Krish End to End ML - Git postman deployment/git_project/BostonHousePricePredictionHerokuDeployment/venv ipykernel --update-deps --force-reinstall'"
     ]
    }
   ],
   "source": [
    "boston_df = load_boston()"
   ]
  },
  {
   "cell_type": "code",
   "execution_count": null,
   "metadata": {},
   "outputs": [
    {
     "ename": "",
     "evalue": "",
     "output_type": "error",
     "traceback": [
      "\u001b[1;31mRunning cells with '/Users/joshi.purvi/purvi/iNueron/Krish End to End ML - Git postman deployment/git_project/BostonHousePricePredictionHerokuDeployment/venv/bin/python' requires the ipykernel package.\n",
      "\u001b[1;31mRun the following command to install 'ipykernel' into the Python environment. \n",
      "\u001b[1;31mCommand: 'conda install -p /Users/joshi.purvi/purvi/iNueron/Krish End to End ML - Git postman deployment/git_project/BostonHousePricePredictionHerokuDeployment/venv ipykernel --update-deps --force-reinstall'"
     ]
    }
   ],
   "source": [
    "boston_df.keys()"
   ]
  },
  {
   "cell_type": "code",
   "execution_count": null,
   "metadata": {},
   "outputs": [
    {
     "ename": "",
     "evalue": "",
     "output_type": "error",
     "traceback": [
      "\u001b[1;31mRunning cells with '/Users/joshi.purvi/purvi/iNueron/Krish End to End ML - Git postman deployment/git_project/BostonHousePricePredictionHerokuDeployment/venv/bin/python' requires the ipykernel package.\n",
      "\u001b[1;31mRun the following command to install 'ipykernel' into the Python environment. \n",
      "\u001b[1;31mCommand: 'conda install -p /Users/joshi.purvi/purvi/iNueron/Krish End to End ML - Git postman deployment/git_project/BostonHousePricePredictionHerokuDeployment/venv ipykernel --update-deps --force-reinstall'"
     ]
    }
   ],
   "source": [
    "print(boston_df.DESCR)"
   ]
  },
  {
   "cell_type": "code",
   "execution_count": null,
   "metadata": {},
   "outputs": [
    {
     "ename": "",
     "evalue": "",
     "output_type": "error",
     "traceback": [
      "\u001b[1;31mRunning cells with '/Users/joshi.purvi/purvi/iNueron/Krish End to End ML - Git postman deployment/git_project/BostonHousePricePredictionHerokuDeployment/venv/bin/python' requires the ipykernel package.\n",
      "\u001b[1;31mRun the following command to install 'ipykernel' into the Python environment. \n",
      "\u001b[1;31mCommand: 'conda install -p /Users/joshi.purvi/purvi/iNueron/Krish End to End ML - Git postman deployment/git_project/BostonHousePricePredictionHerokuDeployment/venv ipykernel --update-deps --force-reinstall'"
     ]
    }
   ],
   "source": [
    "print(boston_df.data)"
   ]
  },
  {
   "cell_type": "code",
   "execution_count": null,
   "metadata": {},
   "outputs": [
    {
     "ename": "",
     "evalue": "",
     "output_type": "error",
     "traceback": [
      "\u001b[1;31mRunning cells with '/Users/joshi.purvi/purvi/iNueron/Krish End to End ML - Git postman deployment/git_project/BostonHousePricePredictionHerokuDeployment/venv/bin/python' requires the ipykernel package.\n",
      "\u001b[1;31mRun the following command to install 'ipykernel' into the Python environment. \n",
      "\u001b[1;31mCommand: 'conda install -p /Users/joshi.purvi/purvi/iNueron/Krish End to End ML - Git postman deployment/git_project/BostonHousePricePredictionHerokuDeployment/venv ipykernel --update-deps --force-reinstall'"
     ]
    }
   ],
   "source": [
    "print(boston_df.feature_names)"
   ]
  },
  {
   "cell_type": "markdown",
   "metadata": {},
   "source": [
    "## PreparingDataSet"
   ]
  },
  {
   "cell_type": "code",
   "execution_count": null,
   "metadata": {},
   "outputs": [
    {
     "ename": "",
     "evalue": "",
     "output_type": "error",
     "traceback": [
      "\u001b[1;31mRunning cells with '/Users/joshi.purvi/purvi/iNueron/Krish End to End ML - Git postman deployment/git_project/BostonHousePricePredictionHerokuDeployment/venv/bin/python' requires the ipykernel package.\n",
      "\u001b[1;31mRun the following command to install 'ipykernel' into the Python environment. \n",
      "\u001b[1;31mCommand: 'conda install -p /Users/joshi.purvi/purvi/iNueron/Krish End to End ML - Git postman deployment/git_project/BostonHousePricePredictionHerokuDeployment/venv ipykernel --update-deps --force-reinstall'"
     ]
    }
   ],
   "source": [
    "dataset = pd.DataFrame(boston_df.data,columns=boston_df.feature_names)"
   ]
  },
  {
   "cell_type": "code",
   "execution_count": null,
   "metadata": {},
   "outputs": [
    {
     "ename": "",
     "evalue": "",
     "output_type": "error",
     "traceback": [
      "\u001b[1;31mRunning cells with '/Users/joshi.purvi/purvi/iNueron/Krish End to End ML - Git postman deployment/git_project/BostonHousePricePredictionHerokuDeployment/venv/bin/python' requires the ipykernel package.\n",
      "\u001b[1;31mRun the following command to install 'ipykernel' into the Python environment. \n",
      "\u001b[1;31mCommand: 'conda install -p /Users/joshi.purvi/purvi/iNueron/Krish End to End ML - Git postman deployment/git_project/BostonHousePricePredictionHerokuDeployment/venv ipykernel --update-deps --force-reinstall'"
     ]
    }
   ],
   "source": [
    "dataset.head()"
   ]
  },
  {
   "cell_type": "code",
   "execution_count": null,
   "metadata": {},
   "outputs": [
    {
     "ename": "",
     "evalue": "",
     "output_type": "error",
     "traceback": [
      "\u001b[1;31mRunning cells with '/Users/joshi.purvi/purvi/iNueron/Krish End to End ML - Git postman deployment/git_project/BostonHousePricePredictionHerokuDeployment/venv/bin/python' requires the ipykernel package.\n",
      "\u001b[1;31mRun the following command to install 'ipykernel' into the Python environment. \n",
      "\u001b[1;31mCommand: 'conda install -p /Users/joshi.purvi/purvi/iNueron/Krish End to End ML - Git postman deployment/git_project/BostonHousePricePredictionHerokuDeployment/venv ipykernel --update-deps --force-reinstall'"
     ]
    }
   ],
   "source": [
    "dataset[\"Price\"] = boston_df.target"
   ]
  },
  {
   "cell_type": "code",
   "execution_count": null,
   "metadata": {},
   "outputs": [
    {
     "ename": "",
     "evalue": "",
     "output_type": "error",
     "traceback": [
      "\u001b[1;31mRunning cells with '/Users/joshi.purvi/purvi/iNueron/Krish End to End ML - Git postman deployment/git_project/BostonHousePricePredictionHerokuDeployment/venv/bin/python' requires the ipykernel package.\n",
      "\u001b[1;31mRun the following command to install 'ipykernel' into the Python environment. \n",
      "\u001b[1;31mCommand: 'conda install -p /Users/joshi.purvi/purvi/iNueron/Krish End to End ML - Git postman deployment/git_project/BostonHousePricePredictionHerokuDeployment/venv ipykernel --update-deps --force-reinstall'"
     ]
    }
   ],
   "source": [
    "dataset.head()"
   ]
  },
  {
   "cell_type": "code",
   "execution_count": null,
   "metadata": {},
   "outputs": [
    {
     "ename": "",
     "evalue": "",
     "output_type": "error",
     "traceback": [
      "\u001b[1;31mRunning cells with '/Users/joshi.purvi/purvi/iNueron/Krish End to End ML - Git postman deployment/git_project/BostonHousePricePredictionHerokuDeployment/venv/bin/python' requires the ipykernel package.\n",
      "\u001b[1;31mRun the following command to install 'ipykernel' into the Python environment. \n",
      "\u001b[1;31mCommand: 'conda install -p /Users/joshi.purvi/purvi/iNueron/Krish End to End ML - Git postman deployment/git_project/BostonHousePricePredictionHerokuDeployment/venv ipykernel --update-deps --force-reinstall'"
     ]
    }
   ],
   "source": [
    "dataset.info()"
   ]
  },
  {
   "cell_type": "markdown",
   "metadata": {},
   "source": [
    "## Data stat"
   ]
  },
  {
   "cell_type": "code",
   "execution_count": null,
   "metadata": {},
   "outputs": [
    {
     "ename": "",
     "evalue": "",
     "output_type": "error",
     "traceback": [
      "\u001b[1;31mRunning cells with '/Users/joshi.purvi/purvi/iNueron/Krish End to End ML - Git postman deployment/git_project/BostonHousePricePredictionHerokuDeployment/venv/bin/python' requires the ipykernel package.\n",
      "\u001b[1;31mRun the following command to install 'ipykernel' into the Python environment. \n",
      "\u001b[1;31mCommand: 'conda install -p /Users/joshi.purvi/purvi/iNueron/Krish End to End ML - Git postman deployment/git_project/BostonHousePricePredictionHerokuDeployment/venv ipykernel --update-deps --force-reinstall'"
     ]
    }
   ],
   "source": [
    "dataset.describe()"
   ]
  },
  {
   "cell_type": "markdown",
   "metadata": {},
   "source": [
    "## check missing values "
   ]
  },
  {
   "cell_type": "code",
   "execution_count": null,
   "metadata": {},
   "outputs": [
    {
     "ename": "",
     "evalue": "",
     "output_type": "error",
     "traceback": [
      "\u001b[1;31mRunning cells with '/Users/joshi.purvi/purvi/iNueron/Krish End to End ML - Git postman deployment/git_project/BostonHousePricePredictionHerokuDeployment/venv/bin/python' requires the ipykernel package.\n",
      "\u001b[1;31mRun the following command to install 'ipykernel' into the Python environment. \n",
      "\u001b[1;31mCommand: 'conda install -p /Users/joshi.purvi/purvi/iNueron/Krish End to End ML - Git postman deployment/git_project/BostonHousePricePredictionHerokuDeployment/venv ipykernel --update-deps --force-reinstall'"
     ]
    }
   ],
   "source": [
    "dataset.isnull().sum()"
   ]
  },
  {
   "cell_type": "markdown",
   "metadata": {},
   "source": [
    "### EDA\n",
    "## Corelation - 1. data corelation with target\n",
    "                  ##  2. Multicolinearity between independent features\n"
   ]
  },
  {
   "cell_type": "code",
   "execution_count": null,
   "metadata": {},
   "outputs": [
    {
     "ename": "",
     "evalue": "",
     "output_type": "error",
     "traceback": [
      "\u001b[1;31mRunning cells with '/Users/joshi.purvi/purvi/iNueron/Krish End to End ML - Git postman deployment/git_project/BostonHousePricePredictionHerokuDeployment/venv/bin/python' requires the ipykernel package.\n",
      "\u001b[1;31mRun the following command to install 'ipykernel' into the Python environment. \n",
      "\u001b[1;31mCommand: 'conda install -p /Users/joshi.purvi/purvi/iNueron/Krish End to End ML - Git postman deployment/git_project/BostonHousePricePredictionHerokuDeployment/venv ipykernel --update-deps --force-reinstall'"
     ]
    }
   ],
   "source": [
    "dataset.corr()"
   ]
  },
  {
   "cell_type": "code",
   "execution_count": null,
   "metadata": {},
   "outputs": [
    {
     "ename": "",
     "evalue": "",
     "output_type": "error",
     "traceback": [
      "\u001b[1;31mRunning cells with '/Users/joshi.purvi/purvi/iNueron/Krish End to End ML - Git postman deployment/git_project/BostonHousePricePredictionHerokuDeployment/venv/bin/python' requires the ipykernel package.\n",
      "\u001b[1;31mRun the following command to install 'ipykernel' into the Python environment. \n",
      "\u001b[1;31mCommand: 'conda install -p /Users/joshi.purvi/purvi/iNueron/Krish End to End ML - Git postman deployment/git_project/BostonHousePricePredictionHerokuDeployment/venv ipykernel --update-deps --force-reinstall'"
     ]
    }
   ],
   "source": [
    "import seaborn as sns\n",
    "sns.pairplot(dataset)"
   ]
  },
  {
   "cell_type": "code",
   "execution_count": null,
   "metadata": {},
   "outputs": [
    {
     "ename": "",
     "evalue": "",
     "output_type": "error",
     "traceback": [
      "\u001b[1;31mRunning cells with '/Users/joshi.purvi/purvi/iNueron/Krish End to End ML - Git postman deployment/git_project/BostonHousePricePredictionHerokuDeployment/venv/bin/python' requires the ipykernel package.\n",
      "\u001b[1;31mRun the following command to install 'ipykernel' into the Python environment. \n",
      "\u001b[1;31mCommand: 'conda install -p /Users/joshi.purvi/purvi/iNueron/Krish End to End ML - Git postman deployment/git_project/BostonHousePricePredictionHerokuDeployment/venv ipykernel --update-deps --force-reinstall'"
     ]
    }
   ],
   "source": [
    "plt.scatter(dataset[\"CRIM\"],dataset[\"Price\"])\n",
    "plt.xlabel(\"Crime Rate\")\n",
    "plt.ylabel(\"Price\")"
   ]
  },
  {
   "cell_type": "code",
   "execution_count": null,
   "metadata": {},
   "outputs": [
    {
     "ename": "",
     "evalue": "",
     "output_type": "error",
     "traceback": [
      "\u001b[1;31mRunning cells with '/Users/joshi.purvi/purvi/iNueron/Krish End to End ML - Git postman deployment/git_project/BostonHousePricePredictionHerokuDeployment/venv/bin/python' requires the ipykernel package.\n",
      "\u001b[1;31mRun the following command to install 'ipykernel' into the Python environment. \n",
      "\u001b[1;31mCommand: 'conda install -p /Users/joshi.purvi/purvi/iNueron/Krish End to End ML - Git postman deployment/git_project/BostonHousePricePredictionHerokuDeployment/venv ipykernel --update-deps --force-reinstall'"
     ]
    }
   ],
   "source": [
    "plt.scatter(dataset[\"RM\"],dataset[\"Price\"])\n",
    "plt.xlabel(\"Rooms\")\n",
    "plt.ylabel(\"Price\")"
   ]
  },
  {
   "cell_type": "markdown",
   "metadata": {},
   "source": [
    "## Draw regression plt to see linearity"
   ]
  },
  {
   "cell_type": "code",
   "execution_count": null,
   "metadata": {},
   "outputs": [
    {
     "ename": "",
     "evalue": "",
     "output_type": "error",
     "traceback": [
      "\u001b[1;31mRunning cells with '/Users/joshi.purvi/purvi/iNueron/Krish End to End ML - Git postman deployment/git_project/BostonHousePricePredictionHerokuDeployment/venv/bin/python' requires the ipykernel package.\n",
      "\u001b[1;31mRun the following command to install 'ipykernel' into the Python environment. \n",
      "\u001b[1;31mCommand: 'conda install -p /Users/joshi.purvi/purvi/iNueron/Krish End to End ML - Git postman deployment/git_project/BostonHousePricePredictionHerokuDeployment/venv ipykernel --update-deps --force-reinstall'"
     ]
    }
   ],
   "source": [
    "sns.regplot(x=\"RM\",y=\"Price\",data=dataset)"
   ]
  },
  {
   "cell_type": "code",
   "execution_count": null,
   "metadata": {},
   "outputs": [
    {
     "ename": "",
     "evalue": "",
     "output_type": "error",
     "traceback": [
      "\u001b[1;31mRunning cells with '/Users/joshi.purvi/purvi/iNueron/Krish End to End ML - Git postman deployment/git_project/BostonHousePricePredictionHerokuDeployment/venv/bin/python' requires the ipykernel package.\n",
      "\u001b[1;31mRun the following command to install 'ipykernel' into the Python environment. \n",
      "\u001b[1;31mCommand: 'conda install -p /Users/joshi.purvi/purvi/iNueron/Krish End to End ML - Git postman deployment/git_project/BostonHousePricePredictionHerokuDeployment/venv ipykernel --update-deps --force-reinstall'"
     ]
    }
   ],
   "source": [
    "sns.regplot(x=\"CHAS\",y=\"Price\",data=dataset)"
   ]
  },
  {
   "cell_type": "code",
   "execution_count": null,
   "metadata": {},
   "outputs": [
    {
     "ename": "",
     "evalue": "",
     "output_type": "error",
     "traceback": [
      "\u001b[1;31mRunning cells with '/Users/joshi.purvi/purvi/iNueron/Krish End to End ML - Git postman deployment/git_project/BostonHousePricePredictionHerokuDeployment/venv/bin/python' requires the ipykernel package.\n",
      "\u001b[1;31mRun the following command to install 'ipykernel' into the Python environment. \n",
      "\u001b[1;31mCommand: 'conda install -p /Users/joshi.purvi/purvi/iNueron/Krish End to End ML - Git postman deployment/git_project/BostonHousePricePredictionHerokuDeployment/venv ipykernel --update-deps --force-reinstall'"
     ]
    }
   ],
   "source": [
    "sns.regplot(x=\"PTRATIO\",y=\"Price\",data=dataset)"
   ]
  },
  {
   "cell_type": "markdown",
   "metadata": {},
   "source": [
    "## Independent and dependent features"
   ]
  },
  {
   "cell_type": "code",
   "execution_count": null,
   "metadata": {},
   "outputs": [
    {
     "ename": "",
     "evalue": "",
     "output_type": "error",
     "traceback": [
      "\u001b[1;31mRunning cells with '/Users/joshi.purvi/purvi/iNueron/Krish End to End ML - Git postman deployment/git_project/BostonHousePricePredictionHerokuDeployment/venv/bin/python' requires the ipykernel package.\n",
      "\u001b[1;31mRun the following command to install 'ipykernel' into the Python environment. \n",
      "\u001b[1;31mCommand: 'conda install -p /Users/joshi.purvi/purvi/iNueron/Krish End to End ML - Git postman deployment/git_project/BostonHousePricePredictionHerokuDeployment/venv ipykernel --update-deps --force-reinstall'"
     ]
    }
   ],
   "source": [
    "X = dataset.iloc[:,:-1]\n",
    "y = dataset.iloc[:,-1]"
   ]
  },
  {
   "cell_type": "markdown",
   "metadata": {},
   "source": [
    "## Train test split"
   ]
  },
  {
   "cell_type": "code",
   "execution_count": null,
   "metadata": {},
   "outputs": [
    {
     "ename": "",
     "evalue": "",
     "output_type": "error",
     "traceback": [
      "\u001b[1;31mRunning cells with '/Users/joshi.purvi/purvi/iNueron/Krish End to End ML - Git postman deployment/git_project/BostonHousePricePredictionHerokuDeployment/venv/bin/python' requires the ipykernel package.\n",
      "\u001b[1;31mRun the following command to install 'ipykernel' into the Python environment. \n",
      "\u001b[1;31mCommand: 'conda install -p /Users/joshi.purvi/purvi/iNueron/Krish End to End ML - Git postman deployment/git_project/BostonHousePricePredictionHerokuDeployment/venv ipykernel --update-deps --force-reinstall'"
     ]
    }
   ],
   "source": [
    "from sklearn.model_selection import train_test_split\n",
    "X_train,X_Test, y_train, y_test = train_test_split(X,y,test_size=0.2)"
   ]
  },
  {
   "cell_type": "code",
   "execution_count": null,
   "metadata": {},
   "outputs": [
    {
     "ename": "",
     "evalue": "",
     "output_type": "error",
     "traceback": [
      "\u001b[1;31mRunning cells with '/Users/joshi.purvi/purvi/iNueron/Krish End to End ML - Git postman deployment/git_project/BostonHousePricePredictionHerokuDeployment/venv/bin/python' requires the ipykernel package.\n",
      "\u001b[1;31mRun the following command to install 'ipykernel' into the Python environment. \n",
      "\u001b[1;31mCommand: 'conda install -p /Users/joshi.purvi/purvi/iNueron/Krish End to End ML - Git postman deployment/git_project/BostonHousePricePredictionHerokuDeployment/venv ipykernel --update-deps --force-reinstall'"
     ]
    }
   ],
   "source": [
    "X_train"
   ]
  },
  {
   "cell_type": "code",
   "execution_count": null,
   "metadata": {},
   "outputs": [
    {
     "ename": "",
     "evalue": "",
     "output_type": "error",
     "traceback": [
      "\u001b[1;31mRunning cells with '/Users/joshi.purvi/purvi/iNueron/Krish End to End ML - Git postman deployment/git_project/BostonHousePricePredictionHerokuDeployment/venv/bin/python' requires the ipykernel package.\n",
      "\u001b[1;31mRun the following command to install 'ipykernel' into the Python environment. \n",
      "\u001b[1;31mCommand: 'conda install -p /Users/joshi.purvi/purvi/iNueron/Krish End to End ML - Git postman deployment/git_project/BostonHousePricePredictionHerokuDeployment/venv ipykernel --update-deps --force-reinstall'"
     ]
    }
   ],
   "source": [
    "X_Test"
   ]
  },
  {
   "cell_type": "markdown",
   "metadata": {},
   "source": [
    "## Stadardize the dataset\n",
    "\n",
    "Because in linear regression we use gradient descent, to calculate global minimum to make it faster we need to normalize or stanrdize our data. If all data points are in different units, it takes time to converge"
   ]
  },
  {
   "cell_type": "code",
   "execution_count": null,
   "metadata": {},
   "outputs": [
    {
     "ename": "",
     "evalue": "",
     "output_type": "error",
     "traceback": [
      "\u001b[1;31mRunning cells with '/Users/joshi.purvi/purvi/iNueron/Krish End to End ML - Git postman deployment/git_project/BostonHousePricePredictionHerokuDeployment/venv/bin/python' requires the ipykernel package.\n",
      "\u001b[1;31mRun the following command to install 'ipykernel' into the Python environment. \n",
      "\u001b[1;31mCommand: 'conda install -p /Users/joshi.purvi/purvi/iNueron/Krish End to End ML - Git postman deployment/git_project/BostonHousePricePredictionHerokuDeployment/venv ipykernel --update-deps --force-reinstall'"
     ]
    }
   ],
   "source": [
    "from sklearn.preprocessing import StandardScaler\n",
    "scaler = StandardScaler()"
   ]
  },
  {
   "cell_type": "markdown",
   "metadata": {},
   "source": [
    "## fit_trasform() - Fit and transform\n",
    "The fit method is calculating the mean and variance of each of the features present in our data. The transform method is transforming all the features using the respective mean and variance.\n",
    "\n",
    "Now, we want scaling to be applied to our test data too and at the same time do not want to be biased with our model. We want our test data to be a completely new and a surprise set for our model. The transform method helps us in this case.\n",
    "\n",
    "xscaled = (x - mean) /std\n",
    "\n",
    "## transform()\n",
    "We don't want our model to learn more (mean and std) about our test data\n",
    "Using the transform method we can use the same mean and variance as it is calculated from our training data to transform our test data. Thus, the parameters learned by our model using the training data will help us to transform our test data."
   ]
  },
  {
   "cell_type": "code",
   "execution_count": null,
   "metadata": {},
   "outputs": [
    {
     "ename": "",
     "evalue": "",
     "output_type": "error",
     "traceback": [
      "\u001b[1;31mRunning cells with '/Users/joshi.purvi/purvi/iNueron/Krish End to End ML - Git postman deployment/git_project/BostonHousePricePredictionHerokuDeployment/venv/bin/python' requires the ipykernel package.\n",
      "\u001b[1;31mRun the following command to install 'ipykernel' into the Python environment. \n",
      "\u001b[1;31mCommand: 'conda install -p /Users/joshi.purvi/purvi/iNueron/Krish End to End ML - Git postman deployment/git_project/BostonHousePricePredictionHerokuDeployment/venv ipykernel --update-deps --force-reinstall'"
     ]
    }
   ],
   "source": [
    "## fit_transform - \n",
    "## fit - \n",
    "X_train = scaler.fit_transform(X_train)\n",
    "X_Test = scaler.transform(X_Test)"
   ]
  },
  {
   "cell_type": "code",
   "execution_count": null,
   "metadata": {},
   "outputs": [
    {
     "ename": "",
     "evalue": "",
     "output_type": "error",
     "traceback": [
      "\u001b[1;31mRunning cells with '/Users/joshi.purvi/purvi/iNueron/Krish End to End ML - Git postman deployment/git_project/BostonHousePricePredictionHerokuDeployment/venv/bin/python' requires the ipykernel package.\n",
      "\u001b[1;31mRun the following command to install 'ipykernel' into the Python environment. \n",
      "\u001b[1;31mCommand: 'conda install -p /Users/joshi.purvi/purvi/iNueron/Krish End to End ML - Git postman deployment/git_project/BostonHousePricePredictionHerokuDeployment/venv ipykernel --update-deps --force-reinstall'"
     ]
    }
   ],
   "source": [
    "from sklearn.linear_model import LinearRegression\n",
    "from sklearn.model_selection import cross_val_score\n",
    "from sklearn.metrics import accuracy_score\n",
    "\n",
    "model =LinearRegression()\n",
    "model.fit(X_train,y_train)\n",
    "\n"
   ]
  },
  {
   "cell_type": "code",
   "execution_count": null,
   "metadata": {},
   "outputs": [
    {
     "ename": "",
     "evalue": "",
     "output_type": "error",
     "traceback": [
      "\u001b[1;31mRunning cells with '/Users/joshi.purvi/purvi/iNueron/Krish End to End ML - Git postman deployment/git_project/BostonHousePricePredictionHerokuDeployment/venv/bin/python' requires the ipykernel package.\n",
      "\u001b[1;31mRun the following command to install 'ipykernel' into the Python environment. \n",
      "\u001b[1;31mCommand: 'conda install -p /Users/joshi.purvi/purvi/iNueron/Krish End to End ML - Git postman deployment/git_project/BostonHousePricePredictionHerokuDeployment/venv ipykernel --update-deps --force-reinstall'"
     ]
    }
   ],
   "source": [
    "model.coef_"
   ]
  },
  {
   "cell_type": "code",
   "execution_count": null,
   "metadata": {},
   "outputs": [
    {
     "ename": "",
     "evalue": "",
     "output_type": "error",
     "traceback": [
      "\u001b[1;31mRunning cells with '/Users/joshi.purvi/purvi/iNueron/Krish End to End ML - Git postman deployment/git_project/BostonHousePricePredictionHerokuDeployment/venv/bin/python' requires the ipykernel package.\n",
      "\u001b[1;31mRun the following command to install 'ipykernel' into the Python environment. \n",
      "\u001b[1;31mCommand: 'conda install -p /Users/joshi.purvi/purvi/iNueron/Krish End to End ML - Git postman deployment/git_project/BostonHousePricePredictionHerokuDeployment/venv ipykernel --update-deps --force-reinstall'"
     ]
    }
   ],
   "source": [
    "model.intercept_\n"
   ]
  },
  {
   "cell_type": "markdown",
   "metadata": {},
   "source": [
    "## on which parameters model is trained"
   ]
  },
  {
   "cell_type": "code",
   "execution_count": null,
   "metadata": {},
   "outputs": [
    {
     "ename": "",
     "evalue": "",
     "output_type": "error",
     "traceback": [
      "\u001b[1;31mRunning cells with '/Users/joshi.purvi/purvi/iNueron/Krish End to End ML - Git postman deployment/git_project/BostonHousePricePredictionHerokuDeployment/venv/bin/python' requires the ipykernel package.\n",
      "\u001b[1;31mRun the following command to install 'ipykernel' into the Python environment. \n",
      "\u001b[1;31mCommand: 'conda install -p /Users/joshi.purvi/purvi/iNueron/Krish End to End ML - Git postman deployment/git_project/BostonHousePricePredictionHerokuDeployment/venv ipykernel --update-deps --force-reinstall'"
     ]
    }
   ],
   "source": [
    "model.get_params()"
   ]
  },
  {
   "cell_type": "code",
   "execution_count": null,
   "metadata": {},
   "outputs": [
    {
     "ename": "",
     "evalue": "",
     "output_type": "error",
     "traceback": [
      "\u001b[1;31mRunning cells with '/Users/joshi.purvi/purvi/iNueron/Krish End to End ML - Git postman deployment/git_project/BostonHousePricePredictionHerokuDeployment/venv/bin/python' requires the ipykernel package.\n",
      "\u001b[1;31mRun the following command to install 'ipykernel' into the Python environment. \n",
      "\u001b[1;31mCommand: 'conda install -p /Users/joshi.purvi/purvi/iNueron/Krish End to End ML - Git postman deployment/git_project/BostonHousePricePredictionHerokuDeployment/venv ipykernel --update-deps --force-reinstall'"
     ]
    }
   ],
   "source": [
    "y_pred=model.predict(X_Test)"
   ]
  },
  {
   "cell_type": "code",
   "execution_count": null,
   "metadata": {},
   "outputs": [
    {
     "ename": "",
     "evalue": "",
     "output_type": "error",
     "traceback": [
      "\u001b[1;31mRunning cells with '/Users/joshi.purvi/purvi/iNueron/Krish End to End ML - Git postman deployment/git_project/BostonHousePricePredictionHerokuDeployment/venv/bin/python' requires the ipykernel package.\n",
      "\u001b[1;31mRun the following command to install 'ipykernel' into the Python environment. \n",
      "\u001b[1;31mCommand: 'conda install -p /Users/joshi.purvi/purvi/iNueron/Krish End to End ML - Git postman deployment/git_project/BostonHousePricePredictionHerokuDeployment/venv ipykernel --update-deps --force-reinstall'"
     ]
    }
   ],
   "source": [
    "y_pred"
   ]
  },
  {
   "cell_type": "code",
   "execution_count": null,
   "metadata": {},
   "outputs": [
    {
     "ename": "",
     "evalue": "",
     "output_type": "error",
     "traceback": [
      "\u001b[1;31mRunning cells with '/Users/joshi.purvi/purvi/iNueron/Krish End to End ML - Git postman deployment/git_project/BostonHousePricePredictionHerokuDeployment/venv/bin/python' requires the ipykernel package.\n",
      "\u001b[1;31mRun the following command to install 'ipykernel' into the Python environment. \n",
      "\u001b[1;31mCommand: 'conda install -p /Users/joshi.purvi/purvi/iNueron/Krish End to End ML - Git postman deployment/git_project/BostonHousePricePredictionHerokuDeployment/venv ipykernel --update-deps --force-reinstall'"
     ]
    }
   ],
   "source": [
    "list(y_test)"
   ]
  },
  {
   "cell_type": "markdown",
   "metadata": {},
   "source": [
    "## Plotting y_test and y_pred"
   ]
  },
  {
   "cell_type": "code",
   "execution_count": null,
   "metadata": {},
   "outputs": [
    {
     "ename": "",
     "evalue": "",
     "output_type": "error",
     "traceback": [
      "\u001b[1;31mRunning cells with '/Users/joshi.purvi/purvi/iNueron/Krish End to End ML - Git postman deployment/git_project/BostonHousePricePredictionHerokuDeployment/venv/bin/python' requires the ipykernel package.\n",
      "\u001b[1;31mRun the following command to install 'ipykernel' into the Python environment. \n",
      "\u001b[1;31mCommand: 'conda install -p /Users/joshi.purvi/purvi/iNueron/Krish End to End ML - Git postman deployment/git_project/BostonHousePricePredictionHerokuDeployment/venv ipykernel --update-deps --force-reinstall'"
     ]
    }
   ],
   "source": [
    "## linear means good prediction\n",
    "plt.scatter(y_test,y_pred) "
   ]
  },
  {
   "cell_type": "code",
   "execution_count": null,
   "metadata": {},
   "outputs": [
    {
     "ename": "",
     "evalue": "",
     "output_type": "error",
     "traceback": [
      "\u001b[1;31mRunning cells with '/Users/joshi.purvi/purvi/iNueron/Krish End to End ML - Git postman deployment/git_project/BostonHousePricePredictionHerokuDeployment/venv/bin/python' requires the ipykernel package.\n",
      "\u001b[1;31mRun the following command to install 'ipykernel' into the Python environment. \n",
      "\u001b[1;31mCommand: 'conda install -p /Users/joshi.purvi/purvi/iNueron/Krish End to End ML - Git postman deployment/git_project/BostonHousePricePredictionHerokuDeployment/venv ipykernel --update-deps --force-reinstall'"
     ]
    }
   ],
   "source": [
    "## predcitiopn with residuals\n",
    "\n",
    "residuals =y_test - y_pred\n",
    "residuals\n"
   ]
  },
  {
   "cell_type": "markdown",
   "metadata": {},
   "source": [
    "## plotting residuals"
   ]
  },
  {
   "cell_type": "code",
   "execution_count": null,
   "metadata": {},
   "outputs": [
    {
     "ename": "",
     "evalue": "",
     "output_type": "error",
     "traceback": [
      "\u001b[1;31mRunning cells with '/Users/joshi.purvi/purvi/iNueron/Krish End to End ML - Git postman deployment/git_project/BostonHousePricePredictionHerokuDeployment/venv/bin/python' requires the ipykernel package.\n",
      "\u001b[1;31mRun the following command to install 'ipykernel' into the Python environment. \n",
      "\u001b[1;31mCommand: 'conda install -p /Users/joshi.purvi/purvi/iNueron/Krish End to End ML - Git postman deployment/git_project/BostonHousePricePredictionHerokuDeployment/venv ipykernel --update-deps --force-reinstall'"
     ]
    }
   ],
   "source": [
    "## There should be a normal distribution. looks like normaly distributed, but there are some outliers\n",
    "sns.displot(residuals,kind=\"kde\")"
   ]
  },
  {
   "cell_type": "code",
   "execution_count": null,
   "metadata": {},
   "outputs": [
    {
     "ename": "",
     "evalue": "",
     "output_type": "error",
     "traceback": [
      "\u001b[1;31mRunning cells with '/Users/joshi.purvi/purvi/iNueron/Krish End to End ML - Git postman deployment/git_project/BostonHousePricePredictionHerokuDeployment/venv/bin/python' requires the ipykernel package.\n",
      "\u001b[1;31mRun the following command to install 'ipykernel' into the Python environment. \n",
      "\u001b[1;31mCommand: 'conda install -p /Users/joshi.purvi/purvi/iNueron/Krish End to End ML - Git postman deployment/git_project/BostonHousePricePredictionHerokuDeployment/venv ipykernel --update-deps --force-reinstall'"
     ]
    }
   ],
   "source": [
    "## Uniform distribution - menas model performing well\n",
    "plt.scatter(y_pred,residuals)"
   ]
  },
  {
   "cell_type": "code",
   "execution_count": null,
   "metadata": {},
   "outputs": [
    {
     "ename": "",
     "evalue": "",
     "output_type": "error",
     "traceback": [
      "\u001b[1;31mRunning cells with '/Users/joshi.purvi/purvi/iNueron/Krish End to End ML - Git postman deployment/git_project/BostonHousePricePredictionHerokuDeployment/venv/bin/python' requires the ipykernel package.\n",
      "\u001b[1;31mRun the following command to install 'ipykernel' into the Python environment. \n",
      "\u001b[1;31mCommand: 'conda install -p /Users/joshi.purvi/purvi/iNueron/Krish End to End ML - Git postman deployment/git_project/BostonHousePricePredictionHerokuDeployment/venv ipykernel --update-deps --force-reinstall'"
     ]
    }
   ],
   "source": [
    "from sklearn.metrics import mean_squared_error,mean_absolute_error\n",
    "\n",
    "print(mean_absolute_error(y_test,y_pred))\n",
    "\n",
    "print(mean_squared_error(y_test,y_pred))\n",
    "print(np.sqrt(mean_squared_error(y_test,y_pred))) - root mean sqaured error"
   ]
  },
  {
   "cell_type": "markdown",
   "metadata": {},
   "source": [
    "## R sqaure and adjusted R squared\n",
    "\n",
    "R suare - It measures the proportion of the variation in your dependent variable explained by all of your independent variables in the model. It assumes that every independent variable in the model helps to explain variation in the dependent variable. In reality, some independent variables (predictors) don't help to explain dependent (target) variable. In other words, some variables do not contribute in predicting target variable.\n",
    "\n",
    "R-Squared is also called coefficient of determination. It lies between 0% and 100%. A r-squared value of 100% means the model explains all the variation of the target variable. And a value of 0% measures zero predictive power of the model. Higher R-squared value, better the model."
   ]
  },
  {
   "cell_type": "markdown",
   "metadata": {},
   "source": [
    "Adjusted R2 would be less than R2\n",
    "R^2 = 1 - SSR/SST\n",
    "coefficient of determination R2 \n",
    "SSR - Sum of sqaure residual\n",
    "SST - Sum of sqaure total\n",
    "\n",
    "\n",
    "Adjusted R2 = 1 - [(1-R2) * (n-1) / (n-k-1)]"
   ]
  },
  {
   "cell_type": "code",
   "execution_count": null,
   "metadata": {},
   "outputs": [
    {
     "ename": "",
     "evalue": "",
     "output_type": "error",
     "traceback": [
      "\u001b[1;31mRunning cells with '/Users/joshi.purvi/purvi/iNueron/Krish End to End ML - Git postman deployment/git_project/BostonHousePricePredictionHerokuDeployment/venv/bin/python' requires the ipykernel package.\n",
      "\u001b[1;31mRun the following command to install 'ipykernel' into the Python environment. \n",
      "\u001b[1;31mCommand: 'conda install -p /Users/joshi.purvi/purvi/iNueron/Krish End to End ML - Git postman deployment/git_project/BostonHousePricePredictionHerokuDeployment/venv ipykernel --update-deps --force-reinstall'"
     ]
    }
   ],
   "source": [
    "from sklearn.metrics import r2_score\n",
    "r_score = r2_score(y_test,y_pred)\n",
    "r_score"
   ]
  },
  {
   "cell_type": "markdown",
   "metadata": {},
   "source": [
    "## adjusted R squared\n",
    "\n",
    "It measures the proportion of variation explained by only those independent variables that really help in explaining the dependent variable. It penalizes you for adding independent variable that do not help in predicting the dependent variable.\n",
    "\n",
    "Adjusted R-Squared can be calculated mathematically in terms of sum of squares. The only difference between R-square and Adjusted R-square equation is degree of freedom.\n",
    "\n",
    "Adjusted R-squared value can be calculated based on value of r-squared, number of independent variables (predictors), total sample size."
   ]
  },
  {
   "cell_type": "code",
   "execution_count": null,
   "metadata": {},
   "outputs": [
    {
     "ename": "",
     "evalue": "",
     "output_type": "error",
     "traceback": [
      "\u001b[1;31mRunning cells with '/Users/joshi.purvi/purvi/iNueron/Krish End to End ML - Git postman deployment/git_project/BostonHousePricePredictionHerokuDeployment/venv/bin/python' requires the ipykernel package.\n",
      "\u001b[1;31mRun the following command to install 'ipykernel' into the Python environment. \n",
      "\u001b[1;31mCommand: 'conda install -p /Users/joshi.purvi/purvi/iNueron/Krish End to End ML - Git postman deployment/git_project/BostonHousePricePredictionHerokuDeployment/venv ipykernel --update-deps --force-reinstall'"
     ]
    }
   ],
   "source": [
    "## calclate adjusted r sqaure\n",
    "\n",
    "adjust_r2 = 1- (1-r_score) * (len(y_test) -1) /(len(y_test)-X_Test.shape[1]-1)"
   ]
  },
  {
   "cell_type": "code",
   "execution_count": null,
   "metadata": {},
   "outputs": [
    {
     "ename": "",
     "evalue": "",
     "output_type": "error",
     "traceback": [
      "\u001b[1;31mRunning cells with '/Users/joshi.purvi/purvi/iNueron/Krish End to End ML - Git postman deployment/git_project/BostonHousePricePredictionHerokuDeployment/venv/bin/python' requires the ipykernel package.\n",
      "\u001b[1;31mRun the following command to install 'ipykernel' into the Python environment. \n",
      "\u001b[1;31mCommand: 'conda install -p /Users/joshi.purvi/purvi/iNueron/Krish End to End ML - Git postman deployment/git_project/BostonHousePricePredictionHerokuDeployment/venv ipykernel --update-deps --force-reinstall'"
     ]
    }
   ],
   "source": [
    "adjust_r2"
   ]
  },
  {
   "cell_type": "code",
   "execution_count": null,
   "metadata": {},
   "outputs": [
    {
     "ename": "",
     "evalue": "",
     "output_type": "error",
     "traceback": [
      "\u001b[1;31mRunning cells with '/Users/joshi.purvi/purvi/iNueron/Krish End to End ML - Git postman deployment/git_project/BostonHousePricePredictionHerokuDeployment/venv/bin/python' requires the ipykernel package.\n",
      "\u001b[1;31mRun the following command to install 'ipykernel' into the Python environment. \n",
      "\u001b[1;31mCommand: 'conda install -p /Users/joshi.purvi/purvi/iNueron/Krish End to End ML - Git postman deployment/git_project/BostonHousePricePredictionHerokuDeployment/venv ipykernel --update-deps --force-reinstall'"
     ]
    }
   ],
   "source": [
    "X_Test.shape"
   ]
  },
  {
   "cell_type": "code",
   "execution_count": null,
   "metadata": {},
   "outputs": [
    {
     "ename": "",
     "evalue": "",
     "output_type": "error",
     "traceback": [
      "\u001b[1;31mRunning cells with '/Users/joshi.purvi/purvi/iNueron/Krish End to End ML - Git postman deployment/git_project/BostonHousePricePredictionHerokuDeployment/venv/bin/python' requires the ipykernel package.\n",
      "\u001b[1;31mRun the following command to install 'ipykernel' into the Python environment. \n",
      "\u001b[1;31mCommand: 'conda install -p /Users/joshi.purvi/purvi/iNueron/Krish End to End ML - Git postman deployment/git_project/BostonHousePricePredictionHerokuDeployment/venv ipykernel --update-deps --force-reinstall'"
     ]
    }
   ],
   "source": [
    "## How to predict for single data point\n",
    "\n",
    "dataset.loc[0]"
   ]
  },
  {
   "cell_type": "code",
   "execution_count": null,
   "metadata": {},
   "outputs": [
    {
     "ename": "",
     "evalue": "",
     "output_type": "error",
     "traceback": [
      "\u001b[1;31mRunning cells with '/Users/joshi.purvi/purvi/iNueron/Krish End to End ML - Git postman deployment/git_project/BostonHousePricePredictionHerokuDeployment/venv/bin/python' requires the ipykernel package.\n",
      "\u001b[1;31mRun the following command to install 'ipykernel' into the Python environment. \n",
      "\u001b[1;31mCommand: 'conda install -p /Users/joshi.purvi/purvi/iNueron/Krish End to End ML - Git postman deployment/git_project/BostonHousePricePredictionHerokuDeployment/venv ipykernel --update-deps --force-reinstall'"
     ]
    }
   ],
   "source": [
    "model.predict(np.array(dataset.iloc[0,:-1]).reshape(1,-1))\n",
    "\n",
    "## reshape(1,-1) - 1 row, 13 columns, -1 will take columns dinamically\n",
    "# predicting for 1st row, removing last price column for prediction"
   ]
  },
  {
   "cell_type": "code",
   "execution_count": null,
   "metadata": {},
   "outputs": [
    {
     "ename": "",
     "evalue": "",
     "output_type": "error",
     "traceback": [
      "\u001b[1;31mRunning cells with '/Users/joshi.purvi/purvi/iNueron/Krish End to End ML - Git postman deployment/git_project/BostonHousePricePredictionHerokuDeployment/venv/bin/python' requires the ipykernel package.\n",
      "\u001b[1;31mRun the following command to install 'ipykernel' into the Python environment. \n",
      "\u001b[1;31mCommand: 'conda install -p /Users/joshi.purvi/purvi/iNueron/Krish End to End ML - Git postman deployment/git_project/BostonHousePricePredictionHerokuDeployment/venv ipykernel --update-deps --force-reinstall'"
     ]
    }
   ],
   "source": [
    "print(\"actual value\", dataset.iloc[0,-1])"
   ]
  },
  {
   "cell_type": "code",
   "execution_count": null,
   "metadata": {},
   "outputs": [
    {
     "ename": "",
     "evalue": "",
     "output_type": "error",
     "traceback": [
      "\u001b[1;31mRunning cells with '/Users/joshi.purvi/purvi/iNueron/Krish End to End ML - Git postman deployment/git_project/BostonHousePricePredictionHerokuDeployment/venv/bin/python' requires the ipykernel package.\n",
      "\u001b[1;31mRun the following command to install 'ipykernel' into the Python environment. \n",
      "\u001b[1;31mCommand: 'conda install -p /Users/joshi.purvi/purvi/iNueron/Krish End to End ML - Git postman deployment/git_project/BostonHousePricePredictionHerokuDeployment/venv ipykernel --update-deps --force-reinstall'"
     ]
    }
   ],
   "source": [
    "print(\"prediction is so far, we need to scale this data point\")\n",
    "\n",
    "print(model.predict(scaler.transform(np.array(dataset.iloc[0,:-1]).reshape(1,-1))))\n",
    "print(\"Now this is close\")"
   ]
  },
  {
   "cell_type": "code",
   "execution_count": null,
   "metadata": {},
   "outputs": [
    {
     "ename": "",
     "evalue": "",
     "output_type": "error",
     "traceback": [
      "\u001b[1;31mRunning cells with '/Users/joshi.purvi/purvi/iNueron/Krish End to End ML - Git postman deployment/git_project/BostonHousePricePredictionHerokuDeployment/venv/bin/python' requires the ipykernel package.\n",
      "\u001b[1;31mRun the following command to install 'ipykernel' into the Python environment. \n",
      "\u001b[1;31mCommand: 'conda install -p /Users/joshi.purvi/purvi/iNueron/Krish End to End ML - Git postman deployment/git_project/BostonHousePricePredictionHerokuDeployment/venv ipykernel --update-deps --force-reinstall'"
     ]
    }
   ],
   "source": [
    "import pickle\n"
   ]
  },
  {
   "cell_type": "code",
   "execution_count": null,
   "metadata": {},
   "outputs": [
    {
     "ename": "",
     "evalue": "",
     "output_type": "error",
     "traceback": [
      "\u001b[1;31mRunning cells with '/Users/joshi.purvi/purvi/iNueron/Krish End to End ML - Git postman deployment/git_project/BostonHousePricePredictionHerokuDeployment/venv/bin/python' requires the ipykernel package.\n",
      "\u001b[1;31mRun the following command to install 'ipykernel' into the Python environment. \n",
      "\u001b[1;31mCommand: 'conda install -p /Users/joshi.purvi/purvi/iNueron/Krish End to End ML - Git postman deployment/git_project/BostonHousePricePredictionHerokuDeployment/venv ipykernel --update-deps --force-reinstall'"
     ]
    }
   ],
   "source": [
    "pickle.dump(model,open(\"regmodel.pkl\",\"wb\"))\n"
   ]
  },
  {
   "cell_type": "code",
   "execution_count": null,
   "metadata": {},
   "outputs": [
    {
     "ename": "",
     "evalue": "",
     "output_type": "error",
     "traceback": [
      "\u001b[1;31mRunning cells with '/Users/joshi.purvi/purvi/iNueron/Krish End to End ML - Git postman deployment/git_project/BostonHousePricePredictionHerokuDeployment/venv/bin/python' requires the ipykernel package.\n",
      "\u001b[1;31mRun the following command to install 'ipykernel' into the Python environment. \n",
      "\u001b[1;31mCommand: 'conda install -p /Users/joshi.purvi/purvi/iNueron/Krish End to End ML - Git postman deployment/git_project/BostonHousePricePredictionHerokuDeployment/venv ipykernel --update-deps --force-reinstall'"
     ]
    }
   ],
   "source": [
    "## load pickled model and predict \n",
    "\n",
    "pikcled_model = pickle.load(open(\"regmodel.pkl\",\"rb\"))\n",
    "pikcled_model.predict(scaler.transform(np.array(dataset.iloc[0,:-1]).reshape(1,-1)))"
   ]
  },
  {
   "cell_type": "code",
   "execution_count": null,
   "metadata": {},
   "outputs": [
    {
     "ename": "",
     "evalue": "",
     "output_type": "error",
     "traceback": [
      "\u001b[1;31mRunning cells with '/Users/joshi.purvi/purvi/iNueron/Krish End to End ML - Git postman deployment/git_project/BostonHousePricePredictionHerokuDeployment/venv/bin/python' requires the ipykernel package.\n",
      "\u001b[1;31mRun the following command to install 'ipykernel' into the Python environment. \n",
      "\u001b[1;31mCommand: 'conda install -p /Users/joshi.purvi/purvi/iNueron/Krish End to End ML - Git postman deployment/git_project/BostonHousePricePredictionHerokuDeployment/venv ipykernel --update-deps --force-reinstall'"
     ]
    }
   ],
   "source": []
  }
 ],
 "metadata": {
  "kernelspec": {
   "display_name": "Python 3",
   "language": "python",
   "name": "python3"
  },
  "language_info": {
   "codemirror_mode": {
    "name": "ipython",
    "version": 3
   },
   "file_extension": ".py",
   "mimetype": "text/x-python",
   "name": "python",
   "nbconvert_exporter": "python",
   "pygments_lexer": "ipython3",
   "version": "3.7.0"
  }
 },
 "nbformat": 4,
 "nbformat_minor": 2
}
